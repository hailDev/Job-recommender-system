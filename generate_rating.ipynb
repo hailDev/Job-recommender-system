{
 "cells": [
  {
   "cell_type": "code",
   "execution_count": 1,
   "id": "c76b1e81-aa8d-4b00-b0a0-561ef49528ad",
   "metadata": {},
   "outputs": [],
   "source": [
    "import pandas as pd"
   ]
  },
  {
   "cell_type": "code",
   "execution_count": 2,
   "id": "2e0d4bff-e85e-4d41-9d05-94e598f6cba3",
   "metadata": {},
   "outputs": [],
   "source": [
    "# Data awal\n",
    "data = {\n",
    "    'id_project': [],\n",
    "    'id_customer': [],\n",
    "    'id_freelancer': [],\n",
    "    'rating_for_freelancer': []\n",
    "}"
   ]
  },
  {
   "cell_type": "code",
   "execution_count": 3,
   "id": "f22cdb07-0909-4bca-b3e5-cf47bc57cddc",
   "metadata": {},
   "outputs": [],
   "source": [
    "# Jumlah project dan user\n",
    "num_projects = 50\n",
    "num_users = 8"
   ]
  },
  {
   "cell_type": "code",
   "execution_count": 4,
   "id": "eac84b69-eed4-4e19-9e09-11c897c0a3a6",
   "metadata": {},
   "outputs": [],
   "source": [
    "# Generate data baru\n",
    "for project in range(1, num_projects + 1):\n",
    "    for user in range(1, num_users + 1):\n",
    "        data['id_project'].append(project)\n",
    "        data['id_customer'].append(user)\n",
    "        data['id_freelancer'].append((user % num_users) + 1)\n",
    "        data['rating_for_freelancer'].append(2 if user != project % num_users else (project % 5) + 1)"
   ]
  },
  {
   "cell_type": "code",
   "execution_count": 5,
   "id": "6229d731-13ae-4576-b9b2-d0b3cf5343e5",
   "metadata": {},
   "outputs": [],
   "source": [
    "# Membuat DataFrame\n",
    "df = pd.DataFrame(data)\n",
    "\n",
    "# Menyimpan DataFrame ke file CSV\n",
    "df.to_csv('generated_data.csv', index=False)"
   ]
  },
  {
   "cell_type": "code",
   "execution_count": null,
   "id": "0b7e33f3-5742-40c5-9e99-68bdf83d8bd4",
   "metadata": {},
   "outputs": [],
   "source": []
  }
 ],
 "metadata": {
  "kernelspec": {
   "display_name": "Python 3 (ipykernel)",
   "language": "python",
   "name": "python3"
  },
  "language_info": {
   "codemirror_mode": {
    "name": "ipython",
    "version": 3
   },
   "file_extension": ".py",
   "mimetype": "text/x-python",
   "name": "python",
   "nbconvert_exporter": "python",
   "pygments_lexer": "ipython3",
   "version": "3.9.2"
  }
 },
 "nbformat": 4,
 "nbformat_minor": 5
}
