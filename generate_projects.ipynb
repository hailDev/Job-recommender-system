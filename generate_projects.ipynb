{
 "cells": [
  {
   "cell_type": "code",
   "execution_count": 1,
   "id": "b78a9c55-cb42-4a60-a77c-300e6ad0aa79",
   "metadata": {},
   "outputs": [],
   "source": [
    "import pandas as pd\n",
    "import numpy as np"
   ]
  },
  {
   "cell_type": "code",
   "execution_count": 9,
   "id": "0494b426-3f1e-4cb1-a9b5-3d4565b9569e",
   "metadata": {},
   "outputs": [],
   "source": [
    "# Baca file CSV\n",
    "data_project = pd.read_csv('generate_random_data_project.csv')\n",
    "\n",
    "# Duplikasi data_project\n",
    "new_data = data_project.copy()\n",
    "\n",
    "# Acak urutan baris\n",
    "new_data = new_data.sample(frac=1, random_state=42).reset_index(drop=True)\n",
    "\n",
    "# Ganti id_project untuk data baru\n",
    "new_data['project_id'] = range(data_project['project_id'].max() + 1, data_project['project_id'].max() + 1 + len(new_data))\n",
    "\n",
    "# Gabungkan data baru dengan data_project\n",
    "final_data = pd.concat([data_project, new_data], ignore_index=True)\n",
    "# Tulis hasil ke CSV\n",
    "final_data.to_csv('generate_random_data_project.csv', index=False)"
   ]
  },
  {
   "cell_type": "code",
   "execution_count": null,
   "id": "b7257d12-8992-427a-b74c-43ea0f7c52fa",
   "metadata": {},
   "outputs": [],
   "source": []
  },
  {
   "cell_type": "code",
   "execution_count": null,
   "id": "528a5fe6-0b81-498e-93d3-42d6b5b97a74",
   "metadata": {},
   "outputs": [],
   "source": []
  }
 ],
 "metadata": {
  "kernelspec": {
   "display_name": "Python 3 (ipykernel)",
   "language": "python",
   "name": "python3"
  },
  "language_info": {
   "codemirror_mode": {
    "name": "ipython",
    "version": 3
   },
   "file_extension": ".py",
   "mimetype": "text/x-python",
   "name": "python",
   "nbconvert_exporter": "python",
   "pygments_lexer": "ipython3",
   "version": "3.9.2"
  }
 },
 "nbformat": 4,
 "nbformat_minor": 5
}
