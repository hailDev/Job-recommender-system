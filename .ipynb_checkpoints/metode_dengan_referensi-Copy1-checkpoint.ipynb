{
 "cells": [
  {
   "cell_type": "code",
   "execution_count": 8,
   "id": "df86ae2a-7590-423e-87cd-44721b97652f",
   "metadata": {},
   "outputs": [],
   "source": [
    "import pandas as pd\n",
    "from tensorflow.keras.models import Model\n",
    "from keras.models import load_model\n",
    "from tensorflow.keras.layers import Input, Embedding, Dot, Flatten\n",
    "from sklearn.model_selection import train_test_split"
   ]
  },
  {
   "cell_type": "code",
   "execution_count": 15,
   "id": "50f8da91-db9c-4e05-b01f-5f0493613873",
   "metadata": {},
   "outputs": [],
   "source": [
    "data_project = pd.read_csv('MOCK_DATA.csv',names=[\"id\", \"project_category\"])\n",
    "freelancer_preference = pd.read_csv('new_combined_preferences.csv')"
   ]
  },
  {
   "cell_type": "code",
   "execution_count": null,
   "id": "b0a3ab65-ff7a-447f-b9d3-a87587bc05cc",
   "metadata": {},
   "outputs": [],
   "source": []
  },
  {
   "cell_type": "code",
   "execution_count": 21,
   "id": "d4c76567-4272-4c28-adb7-2996ca81af30",
   "metadata": {},
   "outputs": [],
   "source": [
    "projects = pd.read_csv('ffe.csv')\n",
    "model = load_model('recommender_model.h5')"
   ]
  },
  {
   "cell_type": "code",
   "execution_count": 11,
   "id": "ddd30656-8318-4cdd-9e7d-6f9d102a45c3",
   "metadata": {},
   "outputs": [],
   "source": [
    "result_data = []\n",
    "\n",
    "# Loop melalui setiap baris di freelancer_preference\n",
    "for _, row in freelancer_preference.iterrows():\n",
    "    id_freelancer = row['id_freelancer']\n",
    "    \n",
    "    # Loop melalui setiap kolom kecuali 'id_freelancer'\n",
    "    for col in freelancer_preference.columns[1:]:\n",
    "        game_type = col\n",
    "        preference_freelancer = row[col]\n",
    "        \n",
    "        # Filter data_project berdasarkan game_type\n",
    "        filtered_data_project = data_project[data_project['project_category'] == game_type]\n",
    "        \n",
    "        # Loop melalui setiap baris di data_project yang sesuai\n",
    "        for _, project_row in filtered_data_project.iterrows():\n",
    "            id_project = project_row['id']\n",
    "            \n",
    "            # Tambahkan data ke list\n",
    "            result_data.append({'id_project': id_project, 'id_freelancer': id_freelancer, 'game_type': game_type, 'preference_freelancer': preference_freelancer})"
   ]
  },
  {
   "cell_type": "code",
   "execution_count": 12,
   "id": "e630691c-d620-4295-885e-f21d2fbd62bc",
   "metadata": {},
   "outputs": [],
   "source": [
    "result = pd.DataFrame(result_data)"
   ]
  },
  {
   "cell_type": "code",
   "execution_count": 13,
   "id": "d89f3e84-b216-41ee-a758-64c9c493ed5d",
   "metadata": {},
   "outputs": [
    {
     "name": "stdout",
     "output_type": "stream",
     "text": [
      "Empty DataFrame\n",
      "Columns: []\n",
      "Index: []\n"
     ]
    }
   ],
   "source": [
    "print(result)"
   ]
  },
  {
   "cell_type": "code",
   "execution_count": 22,
   "id": "f099daa7-f18b-4902-bd7e-9b9224ffcea2",
   "metadata": {},
   "outputs": [],
   "source": [
    "# import numpy as np\n",
    "# import matplotlib.pyplot as plt\n",
    "\n",
    "# def get_recommendations(id_freelancer, projects, model):\n",
    "#     projects = projects.copy()\n",
    "#     id_freelancers = np.array([id_freelancer] * len(projects))\n",
    "#     results = model([projects.id_project.values, id_freelancers]).numpy().reshape(-1)\n",
    "\n",
    "#     projects['predicted_rating'] = pd.Series(results)\n",
    "#     projects = projects.sort_values('predicted_rating', ascending=False)\n",
    "\n",
    "#     print(f'Recommendations for user {id_freelancer}')\n",
    "#     return(projects)\n",
    "\n",
    "# get_recommendations(100, projects, model)"
   ]
  },
  {
   "cell_type": "code",
   "execution_count": 7,
   "id": "d6282022-0045-41ff-94ea-646f15e38732",
   "metadata": {},
   "outputs": [
    {
     "ename": "UnimplementedError",
     "evalue": "Exception encountered when calling layer 'model' (type Functional).\n\n{{function_node __wrapped__Cast_device_/job:localhost/replica:0/task:0/device:CPU:0}} Cast string to float is not supported [Op:Cast] name: \n\nCall arguments received by layer 'model' (type Functional):\n  • inputs=['tf.Tensor(shape=(500,), dtype=string)', 'tf.Tensor(shape=(500,), dtype=int32)']\n  • training=None\n  • mask=None",
     "output_type": "error",
     "traceback": [
      "\u001b[1;31m---------------------------------------------------------------------------\u001b[0m",
      "\u001b[1;31mUnimplementedError\u001b[0m                        Traceback (most recent call last)",
      "Cell \u001b[1;32mIn[7], line 24\u001b[0m\n\u001b[0;32m     21\u001b[0m         \u001b[38;5;28;01mreturn\u001b[39;00m projects\n\u001b[0;32m     23\u001b[0m \u001b[38;5;66;03m# Contoh pemanggilan fungsi\u001b[39;00m\n\u001b[1;32m---> 24\u001b[0m \u001b[43mget_recommendations\u001b[49m\u001b[43m(\u001b[49m\u001b[38;5;241;43m22\u001b[39;49m\u001b[43m,\u001b[49m\u001b[43m \u001b[49m\u001b[43mprojects\u001b[49m\u001b[43m,\u001b[49m\u001b[43m \u001b[49m\u001b[43mmodel\u001b[49m\u001b[43m)\u001b[49m\n",
      "Cell \u001b[1;32mIn[7], line 9\u001b[0m, in \u001b[0;36mget_recommendations\u001b[1;34m(id_freelancer, projects, model)\u001b[0m\n\u001b[0;32m      7\u001b[0m projects \u001b[38;5;241m=\u001b[39m projects\u001b[38;5;241m.\u001b[39mcopy()\n\u001b[0;32m      8\u001b[0m id_freelancers \u001b[38;5;241m=\u001b[39m np\u001b[38;5;241m.\u001b[39marray([id_freelancer] \u001b[38;5;241m*\u001b[39m \u001b[38;5;28mlen\u001b[39m(projects))\n\u001b[1;32m----> 9\u001b[0m results \u001b[38;5;241m=\u001b[39m \u001b[43mmodel\u001b[49m\u001b[43m(\u001b[49m\u001b[43m[\u001b[49m\u001b[43mprojects\u001b[49m\u001b[38;5;241;43m.\u001b[39;49m\u001b[43mid_project\u001b[49m\u001b[38;5;241;43m.\u001b[39;49m\u001b[43mvalues\u001b[49m\u001b[43m,\u001b[49m\u001b[43m \u001b[49m\u001b[43mid_freelancers\u001b[49m\u001b[43m]\u001b[49m\u001b[43m)\u001b[49m\u001b[38;5;241m.\u001b[39mnumpy()\u001b[38;5;241m.\u001b[39mreshape(\u001b[38;5;241m-\u001b[39m\u001b[38;5;241m1\u001b[39m)\n\u001b[0;32m     11\u001b[0m projects[\u001b[38;5;124m'\u001b[39m\u001b[38;5;124mpredicted_rating\u001b[39m\u001b[38;5;124m'\u001b[39m] \u001b[38;5;241m=\u001b[39m pd\u001b[38;5;241m.\u001b[39mSeries(results)\n\u001b[0;32m     12\u001b[0m projects \u001b[38;5;241m=\u001b[39m projects\u001b[38;5;241m.\u001b[39msort_values(\u001b[38;5;124m'\u001b[39m\u001b[38;5;124mpredicted_rating\u001b[39m\u001b[38;5;124m'\u001b[39m, ascending\u001b[38;5;241m=\u001b[39m\u001b[38;5;28;01mFalse\u001b[39;00m)\n",
      "File \u001b[1;32mc:\\users\\crozi\\appdata\\local\\programs\\python\\python39\\lib\\site-packages\\keras\\src\\utils\\traceback_utils.py:70\u001b[0m, in \u001b[0;36mfilter_traceback.<locals>.error_handler\u001b[1;34m(*args, **kwargs)\u001b[0m\n\u001b[0;32m     67\u001b[0m     filtered_tb \u001b[38;5;241m=\u001b[39m _process_traceback_frames(e\u001b[38;5;241m.\u001b[39m__traceback__)\n\u001b[0;32m     68\u001b[0m     \u001b[38;5;66;03m# To get the full stack trace, call:\u001b[39;00m\n\u001b[0;32m     69\u001b[0m     \u001b[38;5;66;03m# `tf.debugging.disable_traceback_filtering()`\u001b[39;00m\n\u001b[1;32m---> 70\u001b[0m     \u001b[38;5;28;01mraise\u001b[39;00m e\u001b[38;5;241m.\u001b[39mwith_traceback(filtered_tb) \u001b[38;5;28;01mfrom\u001b[39;00m \u001b[38;5;28;01mNone\u001b[39;00m\n\u001b[0;32m     71\u001b[0m \u001b[38;5;28;01mfinally\u001b[39;00m:\n\u001b[0;32m     72\u001b[0m     \u001b[38;5;28;01mdel\u001b[39;00m filtered_tb\n",
      "File \u001b[1;32mc:\\users\\crozi\\appdata\\local\\programs\\python\\python39\\lib\\site-packages\\tensorflow\\python\\framework\\ops.py:6656\u001b[0m, in \u001b[0;36mraise_from_not_ok_status\u001b[1;34m(e, name)\u001b[0m\n\u001b[0;32m   6654\u001b[0m \u001b[38;5;28;01mdef\u001b[39;00m \u001b[38;5;21mraise_from_not_ok_status\u001b[39m(e, name):\n\u001b[0;32m   6655\u001b[0m   e\u001b[38;5;241m.\u001b[39mmessage \u001b[38;5;241m+\u001b[39m\u001b[38;5;241m=\u001b[39m (\u001b[38;5;124m\"\u001b[39m\u001b[38;5;124m name: \u001b[39m\u001b[38;5;124m\"\u001b[39m \u001b[38;5;241m+\u001b[39m \u001b[38;5;28mstr\u001b[39m(name \u001b[38;5;28;01mif\u001b[39;00m name \u001b[38;5;129;01mis\u001b[39;00m \u001b[38;5;129;01mnot\u001b[39;00m \u001b[38;5;28;01mNone\u001b[39;00m \u001b[38;5;28;01melse\u001b[39;00m \u001b[38;5;124m\"\u001b[39m\u001b[38;5;124m\"\u001b[39m))\n\u001b[1;32m-> 6656\u001b[0m   \u001b[38;5;28;01mraise\u001b[39;00m core\u001b[38;5;241m.\u001b[39m_status_to_exception(e) \u001b[38;5;28;01mfrom\u001b[39;00m \u001b[38;5;28;01mNone\u001b[39;00m\n",
      "\u001b[1;31mUnimplementedError\u001b[0m: Exception encountered when calling layer 'model' (type Functional).\n\n{{function_node __wrapped__Cast_device_/job:localhost/replica:0/task:0/device:CPU:0}} Cast string to float is not supported [Op:Cast] name: \n\nCall arguments received by layer 'model' (type Functional):\n  • inputs=['tf.Tensor(shape=(500,), dtype=string)', 'tf.Tensor(shape=(500,), dtype=int32)']\n  • training=None\n  • mask=None"
     ]
    }
   ],
   "source": [
    "import numpy as np\n",
    "import tensorflow as tf\n",
    "import pandas as pd\n",
    "\n",
    "def get_recommendations(id_freelancer, projects, model):\n",
    "    try:\n",
    "        projects = projects.copy()\n",
    "        id_freelancers = np.array([id_freelancer] * len(projects))\n",
    "        results = model([projects.id_project.values, id_freelancers]).numpy().reshape(-1)\n",
    "\n",
    "        projects['predicted_rating'] = pd.Series(results)\n",
    "        projects = projects.sort_values('predicted_rating', ascending=False)\n",
    "\n",
    "        print(f'Recommendations for user {id_freelancer}')\n",
    "        return projects\n",
    "    except tf.errors.InvalidArgumentError:\n",
    "        print(f'User {id_freelancer} not found. Returning random recommendations.')\n",
    "        # Menggunakan np.random.randint untuk mendapatkan nilai random_state yang berbeda setiap kali dijalankan\n",
    "        random_state = np.random.randint(1, 100)\n",
    "        projects = projects.sample(n=10, random_state=random_state)\n",
    "        return projects\n",
    "\n",
    "# Contoh pemanggilan fungsi\n",
    "get_recommendations(22, projects, model)\n"
   ]
  },
  {
   "cell_type": "code",
   "execution_count": 19,
   "id": "fd2888fa-993a-4b6d-bb59-6a7fb344f66f",
   "metadata": {},
   "outputs": [
    {
     "name": "stdout",
     "output_type": "stream",
     "text": [
      "Model: \"model\"\n",
      "__________________________________________________________________________________________________\n",
      " Layer (type)                Output Shape                 Param #   Connected to                  \n",
      "==================================================================================================\n",
      " input_1 (InputLayer)        [(None, 1)]                  0         []                            \n",
      "                                                                                                  \n",
      " input_2 (InputLayer)        [(None, 1)]                  0         []                            \n",
      "                                                                                                  \n",
      " embedding (Embedding)       (None, 1, 30)                38430     ['input_1[0][0]']             \n",
      "                                                                                                  \n",
      " embedding_1 (Embedding)     (None, 1, 30)                2130      ['input_2[0][0]']             \n",
      "                                                                                                  \n",
      " flatten (Flatten)           (None, 30)                   0         ['embedding[0][0]']           \n",
      "                                                                                                  \n",
      " flatten_1 (Flatten)         (None, 30)                   0         ['embedding_1[0][0]']         \n",
      "                                                                                                  \n",
      " dot (Dot)                   (None, 1)                    0         ['flatten[0][0]',             \n",
      "                                                                     'flatten_1[0][0]']           \n",
      "                                                                                                  \n",
      "==================================================================================================\n",
      "Total params: 40560 (158.44 KB)\n",
      "Trainable params: 40560 (158.44 KB)\n",
      "Non-trainable params: 0 (0.00 Byte)\n",
      "__________________________________________________________________________________________________\n"
     ]
    }
   ],
   "source": [
    "model.summary()"
   ]
  },
  {
   "cell_type": "code",
   "execution_count": 20,
   "id": "8231fe92-b4c5-45b0-b9bc-78ad612158a4",
   "metadata": {},
   "outputs": [
    {
     "name": "stderr",
     "output_type": "stream",
     "text": [
      "c:\\users\\crozi\\appdata\\local\\programs\\python\\python39\\lib\\site-packages\\keras\\src\\engine\\training.py:3000: UserWarning: You are saving your model as an HDF5 file via `model.save()`. This file format is considered legacy. We recommend using instead the native Keras format, e.g. `model.save('my_model.keras')`.\n",
      "  saving_api.save_model(\n"
     ]
    }
   ],
   "source": [
    "model.save('recommender_model.h5')"
   ]
  },
  {
   "cell_type": "code",
   "execution_count": null,
   "id": "fdda07ef-9831-47fc-87fc-20e5b5679964",
   "metadata": {},
   "outputs": [],
   "source": []
  }
 ],
 "metadata": {
  "kernelspec": {
   "display_name": "Python 3 (ipykernel)",
   "language": "python",
   "name": "python3"
  },
  "language_info": {
   "codemirror_mode": {
    "name": "ipython",
    "version": 3
   },
   "file_extension": ".py",
   "mimetype": "text/x-python",
   "name": "python",
   "nbconvert_exporter": "python",
   "pygments_lexer": "ipython3",
   "version": "3.9.2"
  }
 },
 "nbformat": 4,
 "nbformat_minor": 5
}
