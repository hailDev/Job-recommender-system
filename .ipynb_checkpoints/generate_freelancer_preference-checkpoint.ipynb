{
 "cells": [
  {
   "cell_type": "code",
   "execution_count": 1,
   "id": "b2664a67-3484-4131-94bb-f66764ebcba7",
   "metadata": {},
   "outputs": [],
   "source": [
    "import pandas as pd\n",
    "import numpy as np"
   ]
  },
  {
   "cell_type": "code",
   "execution_count": null,
   "id": "3983e26e-9c8b-4c66-809f-19c3e87531b6",
   "metadata": {},
   "outputs": [],
   "source": []
  },
  {
   "cell_type": "code",
   "execution_count": 10,
   "id": "0438f43f-cd16-4a9a-863b-140714813193",
   "metadata": {},
   "outputs": [],
   "source": [
    "# Membuat data preferensi baru\n",
    "existing_preferences = pd.read_csv('new_combined_preferences.csv')\n",
    "new_preferences = []\n",
    "\n",
    "# Fungsi untuk menghasilkan nilai acak antara 2 dan 4\n",
    "def generate_random_value():\n",
    "    return np.random.randint(2, 5)\n",
    "\n",
    "# Membuat data preferensi baru dengan 10 baris\n",
    "for i in range(10):\n",
    "    new_preferences.append({'id_freelancer': existing_preferences['id_freelancer'].max() + i + 1, 'Moba': 0, 'RPG': 0, 'Horor': 0, 'Open World': 0, 'Sports': 0, 'Puzzle': 0, 'FPS': 0, 'Battle Royal': 0, 'Adventure': 0})\n",
    "    # Mengisi 5 slot dengan nilai 5\n",
    "    for _ in range(5):\n",
    "        slot = np.random.choice(existing_preferences.columns[1:])\n",
    "        new_preferences[-1][slot] = 5\n",
    "    # Mengisi sisanya dengan nilai acak antara 2 dan 4\n",
    "    for col in existing_preferences.columns[1:]:\n",
    "        if new_preferences[-1][col] == 0:\n",
    "            new_preferences[-1][col] = generate_random_value()\n",
    "\n",
    "# Gabungkan data existing_preferences dengan new_preferences\n",
    "combined_preferences = pd.concat([existing_preferences, pd.DataFrame(new_preferences)], ignore_index=True)\n",
    "\n",
    "# Tulis hasil ke CSV\n",
    "combined_preferences.to_csv('new_combined_preferences.csv', index=False)"
   ]
  },
  {
   "cell_type": "code",
   "execution_count": null,
   "id": "67ca9aa6-6d58-41a1-805d-790af9d6417b",
   "metadata": {},
   "outputs": [],
   "source": []
  }
 ],
 "metadata": {
  "kernelspec": {
   "display_name": "Python 3 (ipykernel)",
   "language": "python",
   "name": "python3"
  },
  "language_info": {
   "codemirror_mode": {
    "name": "ipython",
    "version": 3
   },
   "file_extension": ".py",
   "mimetype": "text/x-python",
   "name": "python",
   "nbconvert_exporter": "python",
   "pygments_lexer": "ipython3",
   "version": "3.9.2"
  }
 },
 "nbformat": 4,
 "nbformat_minor": 5
}
