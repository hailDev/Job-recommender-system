{
 "cells": [
  {
   "cell_type": "code",
   "execution_count": 1,
   "id": "0eaadfdf-6a72-4f68-abd7-3d5b09ce9a93",
   "metadata": {},
   "outputs": [],
   "source": [
    "import pandas as pd\n",
    "import csv\n",
    "import tensorflow as tf\n",
    "from sklearn.metrics.pairwise import cosine_similarity\n",
    "from sklearn.preprocessing import OneHotEncoder\n",
    "from sklearn.preprocessing import LabelEncoder\n",
    "from sklearn.model_selection import train_test_split"
   ]
  },
  {
   "cell_type": "code",
   "execution_count": 2,
   "id": "1c20cc45-d704-4f16-99a7-8dce64f66d90",
   "metadata": {},
   "outputs": [],
   "source": [
    "freelancer_path = 'data/freelancer_data.csv'\n",
    "project_path = 'data/project_data.csv'\n",
    "freelancer_preference_path = 'data/freelancer_preference_data.csv'"
   ]
  },
  {
   "cell_type": "code",
   "execution_count": 3,
   "id": "0035a634-9812-442e-bc32-b4fce32bfbab",
   "metadata": {},
   "outputs": [],
   "source": [
    "freelancer_data = pd.read_csv(freelancer_path)\n",
    "freelancer_preference_data = pd.read_csv(freelancer_preference_path)\n",
    "project_data = pd.read_csv(project_path)"
   ]
  },
  {
   "cell_type": "code",
   "execution_count": 4,
   "id": "124c8f62-af5e-437d-86c3-bb66c8c6ba6a",
   "metadata": {},
   "outputs": [],
   "source": [
    "merged_data = pd.merge(freelancer_preference_data, freelancer_data, on='freelancer_id')\n",
    "merged_data = pd.merge(merged_data, project_data, left_on='freelancer_id', right_on='id_user', suffixes=('_freelancer', '_project'))"
   ]
  },
  {
   "cell_type": "code",
   "execution_count": 5,
   "id": "aa69b537-b108-4c81-8ee2-724c9a7d66d1",
   "metadata": {},
   "outputs": [
    {
     "name": "stdout",
     "output_type": "stream",
     "text": [
      "    id  freelancer_id     preference            name     username  \\\n",
      "0    1            101           MOBA        John Doe     john_doe   \n",
      "1    2            101            FPS        John Doe     john_doe   \n",
      "2    3            102            FPS      Jane Smith   jane_smith   \n",
      "3    4            102  Battle Royale      Jane Smith   jane_smith   \n",
      "4    5            103  Battle Royale    Mike Johnson       mike_j   \n",
      "5    6            103            RPG    Mike Johnson       mike_j   \n",
      "6    7            104            RPG  Sarah Williams      sarah_w   \n",
      "7    8            104      Adventure  Sarah Williams      sarah_w   \n",
      "8    9            105      Adventure     Alex Turner  alex_turner   \n",
      "9   10            105           MOBA     Alex Turner  alex_turner   \n",
      "10  11            106           MOBA     Emily Davis      emily_d   \n",
      "11  12            106            FPS     Emily Davis      emily_d   \n",
      "12  13            107            FPS     Brian White  brian_white   \n",
      "13  14            107  Battle Royale     Brian White  brian_white   \n",
      "14  15            108  Battle Royale     Lisa Taylor       lisa_t   \n",
      "15  16            108            RPG     Lisa Taylor       lisa_t   \n",
      "16  17            109            RPG     Mark Miller       mark_m   \n",
      "17  18            109      Adventure     Mark Miller       mark_m   \n",
      "18  19            110      Adventure   Jessica Brown   jess_brown   \n",
      "19  20            110           MOBA   Jessica Brown   jess_brown   \n",
      "\n",
      "                       email     password  id_project     name_project  \\\n",
      "0         john.doe@email.com  password123           1    Project Alpha   \n",
      "1         john.doe@email.com  password123           1    Project Alpha   \n",
      "2       jane.smith@email.com      pass456           2     Project Beta   \n",
      "3       jane.smith@email.com      pass456           2     Project Beta   \n",
      "4     mike.johnson@email.com    secret789           3    Project Gamma   \n",
      "5     mike.johnson@email.com    secret789           3    Project Gamma   \n",
      "6   sarah.williams@email.com    p@ssword!           4    Project Delta   \n",
      "7   sarah.williams@email.com    p@ssword!           4    Project Delta   \n",
      "8      alex.turner@email.com    qwerty123           5  Project Epsilon   \n",
      "9      alex.turner@email.com    qwerty123           5  Project Epsilon   \n",
      "10     emily.davis@email.com     98765abc           6     Project Zeta   \n",
      "11     emily.davis@email.com     98765abc           6     Project Zeta   \n",
      "12     brian.white@email.com      p@ss123           7    Project Theta   \n",
      "13     brian.white@email.com      p@ss123           7    Project Theta   \n",
      "14     lisa.taylor@email.com    secret456           8     Project Iota   \n",
      "15     lisa.taylor@email.com    secret456           8     Project Iota   \n",
      "16     mark.miller@email.com    qwerty567           9    Project Kappa   \n",
      "17     mark.miller@email.com    qwerty567           9    Project Kappa   \n",
      "18   jessica.brown@email.com  password321          10   Project Lambda   \n",
      "19   jessica.brown@email.com  password321          10   Project Lambda   \n",
      "\n",
      "                       project_desc  id_user due_project   createdAt  \\\n",
      "0     Description for Project Alpha      101  2023-12-31  2023-01-01   \n",
      "1     Description for Project Alpha      101  2023-12-31  2023-01-01   \n",
      "2      Description for Project Beta      102  2023-12-31  2023-01-01   \n",
      "3      Description for Project Beta      102  2023-12-31  2023-01-01   \n",
      "4     Description for Project Gamma      103  2023-12-31  2023-01-01   \n",
      "5     Description for Project Gamma      103  2023-12-31  2023-01-01   \n",
      "6     Description for Project Delta      104  2023-12-31  2023-01-01   \n",
      "7     Description for Project Delta      104  2023-12-31  2023-01-01   \n",
      "8   Description for Project Epsilon      105  2023-12-31  2023-01-01   \n",
      "9   Description for Project Epsilon      105  2023-12-31  2023-01-01   \n",
      "10     Description for Project Zeta      106  2023-12-31  2023-01-01   \n",
      "11     Description for Project Zeta      106  2023-12-31  2023-01-01   \n",
      "12    Description for Project Theta      107  2023-12-31  2023-01-01   \n",
      "13    Description for Project Theta      107  2023-12-31  2023-01-01   \n",
      "14     Description for Project Iota      108  2023-12-31  2023-01-01   \n",
      "15     Description for Project Iota      108  2023-12-31  2023-01-01   \n",
      "16    Description for Project Kappa      109  2023-12-31  2023-01-01   \n",
      "17    Description for Project Kappa      109  2023-12-31  2023-01-01   \n",
      "18   Description for Project Lambda      110  2023-12-31  2023-01-01   \n",
      "19   Description for Project Lambda      110  2023-12-31  2023-01-01   \n",
      "\n",
      "     updatedAt category_game_project  \n",
      "0   2023-01-01                Action  \n",
      "1   2023-01-01                Action  \n",
      "2   2023-01-01             Adventure  \n",
      "3   2023-01-01             Adventure  \n",
      "4   2023-01-01            Simulation  \n",
      "5   2023-01-01            Simulation  \n",
      "6   2023-01-01              Strategy  \n",
      "7   2023-01-01              Strategy  \n",
      "8   2023-01-01                Sports  \n",
      "9   2023-01-01                Sports  \n",
      "10  2023-01-01                Racing  \n",
      "11  2023-01-01                Racing  \n",
      "12  2023-01-01                   RPG  \n",
      "13  2023-01-01                   RPG  \n",
      "14  2023-01-01                Puzzle  \n",
      "15  2023-01-01                Puzzle  \n",
      "16  2023-01-01                   FPS  \n",
      "17  2023-01-01                   FPS  \n",
      "18  2023-01-01                  MOBA  \n",
      "19  2023-01-01                  MOBA  \n"
     ]
    }
   ],
   "source": [
    "print(merged_data)"
   ]
  },
  {
   "cell_type": "code",
   "execution_count": 10,
   "id": "6074dbe1-9c04-4130-8797-3138ae10cea7",
   "metadata": {},
   "outputs": [],
   "source": []
  },
  {
   "cell_type": "code",
   "execution_count": 6,
   "id": "9cc90e84-7f39-4948-9e6b-7d1fd294fc58",
   "metadata": {},
   "outputs": [],
   "source": [
    "data = merged_data\n",
    "\n",
    "# Separate features and target\n",
    "user_features = data[['freelancer_id', 'preference']]\n",
    "item_features = data[['id_project', 'category_game_project']]\n",
    "target = pd.Series([1 if p in c else 0 for p, c in zip(data['preference'], data['category_game_project'])])"
   ]
  },
  {
   "cell_type": "code",
   "execution_count": null,
   "id": "7fe61941-5305-42b2-92d2-cc5e1dc76087",
   "metadata": {},
   "outputs": [],
   "source": []
  },
  {
   "cell_type": "code",
   "execution_count": null,
   "id": "31a2dcac-f253-4693-9fe7-effa0dcee329",
   "metadata": {},
   "outputs": [],
   "source": []
  },
  {
   "cell_type": "code",
   "execution_count": null,
   "id": "75451634-1ca1-4d7b-9753-af85fc4a6202",
   "metadata": {},
   "outputs": [],
   "source": []
  },
  {
   "cell_type": "code",
   "execution_count": null,
   "id": "505a0263-198e-447d-82d1-51b0b220e22d",
   "metadata": {},
   "outputs": [],
   "source": []
  },
  {
   "cell_type": "code",
   "execution_count": null,
   "id": "c34c39cf-1bdc-4f30-85f4-06f99df01d1c",
   "metadata": {},
   "outputs": [],
   "source": []
  },
  {
   "cell_type": "code",
   "execution_count": null,
   "id": "48040d13-bc51-47d0-8b94-f972983eab92",
   "metadata": {},
   "outputs": [],
   "source": []
  }
 ],
 "metadata": {
  "kernelspec": {
   "display_name": "Python 3 (ipykernel)",
   "language": "python",
   "name": "python3"
  },
  "language_info": {
   "codemirror_mode": {
    "name": "ipython",
    "version": 3
   },
   "file_extension": ".py",
   "mimetype": "text/x-python",
   "name": "python",
   "nbconvert_exporter": "python",
   "pygments_lexer": "ipython3",
   "version": "3.9.2"
  }
 },
 "nbformat": 4,
 "nbformat_minor": 5
}
